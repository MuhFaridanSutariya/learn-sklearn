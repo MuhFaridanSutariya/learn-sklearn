{
 "cells": [
  {
   "cell_type": "markdown",
   "id": "50cff701",
   "metadata": {},
   "source": [
    "## import library dan dataset"
   ]
  },
  {
   "cell_type": "code",
   "execution_count": 1,
   "id": "5ac9d3e3",
   "metadata": {},
   "outputs": [],
   "source": [
    "import pandas as pd\n",
    "import numpy as np\n",
    "import matplotlib.pyplot as plt\n",
    "from sklearn.model_selection import train_test_split"
   ]
  },
  {
   "cell_type": "code",
   "execution_count": 2,
   "id": "7b6ccab8",
   "metadata": {},
   "outputs": [
    {
     "data": {
      "text/html": [
       "<div>\n",
       "<style scoped>\n",
       "    .dataframe tbody tr th:only-of-type {\n",
       "        vertical-align: middle;\n",
       "    }\n",
       "\n",
       "    .dataframe tbody tr th {\n",
       "        vertical-align: top;\n",
       "    }\n",
       "\n",
       "    .dataframe thead th {\n",
       "        text-align: right;\n",
       "    }\n",
       "</style>\n",
       "<table border=\"1\" class=\"dataframe\">\n",
       "  <thead>\n",
       "    <tr style=\"text-align: right;\">\n",
       "      <th></th>\n",
       "      <th>pclass</th>\n",
       "      <th>survived</th>\n",
       "      <th>sex</th>\n",
       "      <th>sibsp</th>\n",
       "      <th>parch</th>\n",
       "      <th>fare</th>\n",
       "      <th>embarked</th>\n",
       "    </tr>\n",
       "  </thead>\n",
       "  <tbody>\n",
       "    <tr>\n",
       "      <th>0</th>\n",
       "      <td>1</td>\n",
       "      <td>1</td>\n",
       "      <td>female</td>\n",
       "      <td>0</td>\n",
       "      <td>0</td>\n",
       "      <td>211.3375</td>\n",
       "      <td>S</td>\n",
       "    </tr>\n",
       "    <tr>\n",
       "      <th>1</th>\n",
       "      <td>1</td>\n",
       "      <td>1</td>\n",
       "      <td>male</td>\n",
       "      <td>1</td>\n",
       "      <td>2</td>\n",
       "      <td>151.5500</td>\n",
       "      <td>S</td>\n",
       "    </tr>\n",
       "    <tr>\n",
       "      <th>2</th>\n",
       "      <td>1</td>\n",
       "      <td>0</td>\n",
       "      <td>female</td>\n",
       "      <td>1</td>\n",
       "      <td>2</td>\n",
       "      <td>151.5500</td>\n",
       "      <td>S</td>\n",
       "    </tr>\n",
       "    <tr>\n",
       "      <th>3</th>\n",
       "      <td>1</td>\n",
       "      <td>0</td>\n",
       "      <td>male</td>\n",
       "      <td>1</td>\n",
       "      <td>2</td>\n",
       "      <td>151.5500</td>\n",
       "      <td>S</td>\n",
       "    </tr>\n",
       "    <tr>\n",
       "      <th>4</th>\n",
       "      <td>1</td>\n",
       "      <td>0</td>\n",
       "      <td>female</td>\n",
       "      <td>1</td>\n",
       "      <td>2</td>\n",
       "      <td>151.5500</td>\n",
       "      <td>S</td>\n",
       "    </tr>\n",
       "  </tbody>\n",
       "</table>\n",
       "</div>"
      ],
      "text/plain": [
       "   pclass  survived     sex  sibsp  parch      fare embarked\n",
       "0       1         1  female      0      0  211.3375        S\n",
       "1       1         1    male      1      2  151.5500        S\n",
       "2       1         0  female      1      2  151.5500        S\n",
       "3       1         0    male      1      2  151.5500        S\n",
       "4       1         0  female      1      2  151.5500        S"
      ]
     },
     "execution_count": 2,
     "metadata": {},
     "output_type": "execute_result"
    }
   ],
   "source": [
    "df = pd.read_csv('titanicfull.csv')\n",
    "df.drop(columns=['name', 'ticket', 'age', 'cabin'], inplace=True)\n",
    "df.head()"
   ]
  },
  {
   "cell_type": "markdown",
   "id": "743b00cf",
   "metadata": {},
   "source": [
    "## Splitting data"
   ]
  },
  {
   "cell_type": "code",
   "execution_count": 3,
   "id": "4c15a05d",
   "metadata": {},
   "outputs": [
    {
     "name": "stdout",
     "output_type": "stream",
     "text": [
      "X_train : (1047, 6)\n",
      "X_test : (262, 6)\n",
      "y_train : (1047,)\n",
      "y_test : (262,)\n"
     ]
    }
   ],
   "source": [
    "X = df.drop(columns='survived')\n",
    "y = df['survived']\n",
    "\n",
    "X_train, X_test, y_train, y_test = train_test_split(X, y, test_size=0.2, stratify=y, random_state=42)\n",
    "print(f'X_train : {X_train.shape}')\n",
    "print(f'X_test : {X_test.shape}')\n",
    "print(f'y_train : {y_train.shape}')\n",
    "print(f'y_test : {y_test.shape}')"
   ]
  },
  {
   "cell_type": "markdown",
   "id": "c6d67aa0",
   "metadata": {},
   "source": [
    "## Preprocessor"
   ]
  },
  {
   "cell_type": "code",
   "execution_count": 4,
   "id": "9e5cda49",
   "metadata": {},
   "outputs": [],
   "source": [
    "from sklearn.pipeline import Pipeline\n",
    "from sklearn.impute import SimpleImputer\n",
    "from sklearn.preprocessing import MinMaxScaler, OneHotEncoder"
   ]
  },
  {
   "cell_type": "code",
   "execution_count": 5,
   "id": "09c1fc40",
   "metadata": {},
   "outputs": [],
   "source": [
    "numerical_pipeline = Pipeline([\n",
    "    (\"Imputer\", SimpleImputer(strategy=\"mean\")),\n",
    "    (\"Scaler\", MinMaxScaler())\n",
    "])\n",
    "\n",
    "categorical_pipeline = Pipeline([\n",
    "    (\"Imputer\", SimpleImputer(strategy=\"most_frequent\")),\n",
    "    (\"Onehot\", OneHotEncoder())\n",
    "])"
   ]
  },
  {
   "cell_type": "code",
   "execution_count": 6,
   "id": "9afa72fa",
   "metadata": {},
   "outputs": [],
   "source": [
    "from sklearn.compose import ColumnTransformer "
   ]
  },
  {
   "cell_type": "code",
   "execution_count": 7,
   "id": "8762b294",
   "metadata": {},
   "outputs": [
    {
     "data": {
      "text/html": [
       "<div>\n",
       "<style scoped>\n",
       "    .dataframe tbody tr th:only-of-type {\n",
       "        vertical-align: middle;\n",
       "    }\n",
       "\n",
       "    .dataframe tbody tr th {\n",
       "        vertical-align: top;\n",
       "    }\n",
       "\n",
       "    .dataframe thead th {\n",
       "        text-align: right;\n",
       "    }\n",
       "</style>\n",
       "<table border=\"1\" class=\"dataframe\">\n",
       "  <thead>\n",
       "    <tr style=\"text-align: right;\">\n",
       "      <th></th>\n",
       "      <th>pclass</th>\n",
       "      <th>sex</th>\n",
       "      <th>sibsp</th>\n",
       "      <th>parch</th>\n",
       "      <th>fare</th>\n",
       "      <th>embarked</th>\n",
       "    </tr>\n",
       "  </thead>\n",
       "  <tbody>\n",
       "    <tr>\n",
       "      <th>999</th>\n",
       "      <td>3</td>\n",
       "      <td>female</td>\n",
       "      <td>0</td>\n",
       "      <td>0</td>\n",
       "      <td>7.7500</td>\n",
       "      <td>Q</td>\n",
       "    </tr>\n",
       "    <tr>\n",
       "      <th>392</th>\n",
       "      <td>2</td>\n",
       "      <td>female</td>\n",
       "      <td>1</td>\n",
       "      <td>0</td>\n",
       "      <td>27.7208</td>\n",
       "      <td>C</td>\n",
       "    </tr>\n",
       "    <tr>\n",
       "      <th>628</th>\n",
       "      <td>3</td>\n",
       "      <td>female</td>\n",
       "      <td>4</td>\n",
       "      <td>2</td>\n",
       "      <td>31.2750</td>\n",
       "      <td>S</td>\n",
       "    </tr>\n",
       "    <tr>\n",
       "      <th>1165</th>\n",
       "      <td>3</td>\n",
       "      <td>male</td>\n",
       "      <td>0</td>\n",
       "      <td>0</td>\n",
       "      <td>7.2250</td>\n",
       "      <td>C</td>\n",
       "    </tr>\n",
       "    <tr>\n",
       "      <th>604</th>\n",
       "      <td>3</td>\n",
       "      <td>female</td>\n",
       "      <td>0</td>\n",
       "      <td>0</td>\n",
       "      <td>7.6500</td>\n",
       "      <td>S</td>\n",
       "    </tr>\n",
       "  </tbody>\n",
       "</table>\n",
       "</div>"
      ],
      "text/plain": [
       "      pclass     sex  sibsp  parch     fare embarked\n",
       "999        3  female      0      0   7.7500        Q\n",
       "392        2  female      1      0  27.7208        C\n",
       "628        3  female      4      2  31.2750        S\n",
       "1165       3    male      0      0   7.2250        C\n",
       "604        3  female      0      0   7.6500        S"
      ]
     },
     "execution_count": 7,
     "metadata": {},
     "output_type": "execute_result"
    }
   ],
   "source": [
    "X_train.head()"
   ]
  },
  {
   "cell_type": "code",
   "execution_count": 8,
   "id": "5210b1ee",
   "metadata": {},
   "outputs": [],
   "source": [
    "preprocessor = ColumnTransformer([\n",
    "    (\"numeric\", numerical_pipeline, ['sibsp', 'parch', 'fare']),\n",
    "    (\"categoric\", categorical_pipeline, ['pclass', 'sex', 'embarked'])\n",
    "])"
   ]
  },
  {
   "cell_type": "markdown",
   "id": "91b38dfc",
   "metadata": {},
   "source": [
    "## Final pipeline"
   ]
  },
  {
   "cell_type": "code",
   "execution_count": 9,
   "id": "d2db2bce",
   "metadata": {},
   "outputs": [],
   "source": [
    "from sklearn.neighbors import KNeighborsClassifier"
   ]
  },
  {
   "cell_type": "code",
   "execution_count": 10,
   "id": "50e0f99a",
   "metadata": {},
   "outputs": [],
   "source": [
    "pipeline = Pipeline([\n",
    "    (\"prep\", preprocessor),\n",
    "    (\"algo\", KNeighborsClassifier())\n",
    "])"
   ]
  },
  {
   "cell_type": "code",
   "execution_count": 11,
   "id": "67c161b8",
   "metadata": {},
   "outputs": [
    {
     "data": {
      "text/plain": [
       "Pipeline(steps=[('prep',\n",
       "                 ColumnTransformer(transformers=[('numeric',\n",
       "                                                  Pipeline(steps=[('Imputer',\n",
       "                                                                   SimpleImputer()),\n",
       "                                                                  ('Scaler',\n",
       "                                                                   MinMaxScaler())]),\n",
       "                                                  ['sibsp', 'parch', 'fare']),\n",
       "                                                 ('categoric',\n",
       "                                                  Pipeline(steps=[('Imputer',\n",
       "                                                                   SimpleImputer(strategy='most_frequent')),\n",
       "                                                                  ('Onehot',\n",
       "                                                                   OneHotEncoder())]),\n",
       "                                                  ['pclass', 'sex',\n",
       "                                                   'embarked'])])),\n",
       "                ('algo', KNeighborsClassifier())])"
      ]
     },
     "execution_count": 11,
     "metadata": {},
     "output_type": "execute_result"
    }
   ],
   "source": [
    "pipeline.fit(X_train, y_train)"
   ]
  },
  {
   "cell_type": "code",
   "execution_count": 12,
   "id": "2db67c36",
   "metadata": {},
   "outputs": [
    {
     "data": {
      "text/plain": [
       "0.7824427480916031"
      ]
     },
     "execution_count": 12,
     "metadata": {},
     "output_type": "execute_result"
    }
   ],
   "source": [
    "pipeline.score(X_test, y_test)"
   ]
  },
  {
   "cell_type": "markdown",
   "id": "53ca42ab",
   "metadata": {},
   "source": [
    "## GridSearchCV"
   ]
  },
  {
   "cell_type": "code",
   "execution_count": 13,
   "id": "adbaef2e",
   "metadata": {},
   "outputs": [],
   "source": [
    "from sklearn.model_selection import GridSearchCV"
   ]
  },
  {
   "cell_type": "code",
   "execution_count": 20,
   "id": "a6722dc2",
   "metadata": {},
   "outputs": [
    {
     "name": "stdout",
     "output_type": "stream",
     "text": [
      "Fitting 3 folds for each of 100 candidates, totalling 300 fits\n"
     ]
    },
    {
     "data": {
      "text/plain": [
       "GridSearchCV(cv=3,\n",
       "             estimator=Pipeline(steps=[('prep',\n",
       "                                        ColumnTransformer(transformers=[('numeric',\n",
       "                                                                         Pipeline(steps=[('Imputer',\n",
       "                                                                                          SimpleImputer()),\n",
       "                                                                                         ('Scaler',\n",
       "                                                                                          MinMaxScaler())]),\n",
       "                                                                         ['sibsp',\n",
       "                                                                          'parch',\n",
       "                                                                          'fare']),\n",
       "                                                                        ('categoric',\n",
       "                                                                         Pipeline(steps=[('Imputer',\n",
       "                                                                                          SimpleImputer(strategy='most_frequent')),\n",
       "                                                                                         ('Onehot',\n",
       "                                                                                          OneHotEncoder())]),\n",
       "                                                                         ['pclass',\n",
       "                                                                          'sex',\n",
       "                                                                          'embarked'])])),\n",
       "                                       ('algo', KNeighborsClassifier())]),\n",
       "             n_jobs=-1,\n",
       "             param_grid={'algo__n_neighbors': range(1, 51, 2),\n",
       "                         'algo__p': [1, 2],\n",
       "                         'algo__weights': ['uniform', 'distance']},\n",
       "             verbose=1)"
      ]
     },
     "execution_count": 20,
     "metadata": {},
     "output_type": "execute_result"
    }
   ],
   "source": [
    "parameter = {\n",
    "    \"algo__n_neighbors\": range(1, 51, 2),\n",
    "    \"algo__weights\": [\"uniform\", \"distance\"],\n",
    "    \"algo__p\": [1, 2]\n",
    "}\n",
    "\n",
    "model = GridSearchCV(pipeline, parameter, cv=3, n_jobs=-1, verbose=1)\n",
    "model.fit(X_train, y_train)"
   ]
  },
  {
   "cell_type": "code",
   "execution_count": 24,
   "id": "03ac49ac",
   "metadata": {},
   "outputs": [
    {
     "data": {
      "text/html": [
       "<div>\n",
       "<style scoped>\n",
       "    .dataframe tbody tr th:only-of-type {\n",
       "        vertical-align: middle;\n",
       "    }\n",
       "\n",
       "    .dataframe tbody tr th {\n",
       "        vertical-align: top;\n",
       "    }\n",
       "\n",
       "    .dataframe thead th {\n",
       "        text-align: right;\n",
       "    }\n",
       "</style>\n",
       "<table border=\"1\" class=\"dataframe\">\n",
       "  <thead>\n",
       "    <tr style=\"text-align: right;\">\n",
       "      <th></th>\n",
       "      <th>mean_fit_time</th>\n",
       "      <th>std_fit_time</th>\n",
       "      <th>mean_score_time</th>\n",
       "      <th>std_score_time</th>\n",
       "      <th>param_algo__n_neighbors</th>\n",
       "      <th>param_algo__p</th>\n",
       "      <th>param_algo__weights</th>\n",
       "      <th>params</th>\n",
       "      <th>split0_test_score</th>\n",
       "      <th>split1_test_score</th>\n",
       "      <th>split2_test_score</th>\n",
       "      <th>mean_test_score</th>\n",
       "      <th>std_test_score</th>\n",
       "      <th>rank_test_score</th>\n",
       "    </tr>\n",
       "  </thead>\n",
       "  <tbody>\n",
       "    <tr>\n",
       "      <th>36</th>\n",
       "      <td>0.133929</td>\n",
       "      <td>0.011279</td>\n",
       "      <td>0.127253</td>\n",
       "      <td>0.041959</td>\n",
       "      <td>19</td>\n",
       "      <td>1</td>\n",
       "      <td>uniform</td>\n",
       "      <td>{'algo__n_neighbors': 19, 'algo__p': 1, 'algo_...</td>\n",
       "      <td>0.799427</td>\n",
       "      <td>0.813754</td>\n",
       "      <td>0.762178</td>\n",
       "      <td>0.791786</td>\n",
       "      <td>0.021738</td>\n",
       "      <td>1</td>\n",
       "    </tr>\n",
       "    <tr>\n",
       "      <th>48</th>\n",
       "      <td>0.067131</td>\n",
       "      <td>0.032728</td>\n",
       "      <td>0.067407</td>\n",
       "      <td>0.014312</td>\n",
       "      <td>25</td>\n",
       "      <td>1</td>\n",
       "      <td>uniform</td>\n",
       "      <td>{'algo__n_neighbors': 25, 'algo__p': 1, 'algo_...</td>\n",
       "      <td>0.787966</td>\n",
       "      <td>0.810888</td>\n",
       "      <td>0.765043</td>\n",
       "      <td>0.787966</td>\n",
       "      <td>0.018716</td>\n",
       "      <td>2</td>\n",
       "    </tr>\n",
       "    <tr>\n",
       "      <th>38</th>\n",
       "      <td>0.090127</td>\n",
       "      <td>0.024454</td>\n",
       "      <td>0.094943</td>\n",
       "      <td>0.026881</td>\n",
       "      <td>19</td>\n",
       "      <td>2</td>\n",
       "      <td>uniform</td>\n",
       "      <td>{'algo__n_neighbors': 19, 'algo__p': 2, 'algo_...</td>\n",
       "      <td>0.785100</td>\n",
       "      <td>0.813754</td>\n",
       "      <td>0.762178</td>\n",
       "      <td>0.787011</td>\n",
       "      <td>0.021099</td>\n",
       "      <td>3</td>\n",
       "    </tr>\n",
       "    <tr>\n",
       "      <th>28</th>\n",
       "      <td>0.069869</td>\n",
       "      <td>0.020787</td>\n",
       "      <td>0.083134</td>\n",
       "      <td>0.021751</td>\n",
       "      <td>15</td>\n",
       "      <td>1</td>\n",
       "      <td>uniform</td>\n",
       "      <td>{'algo__n_neighbors': 15, 'algo__p': 1, 'algo_...</td>\n",
       "      <td>0.796562</td>\n",
       "      <td>0.799427</td>\n",
       "      <td>0.765043</td>\n",
       "      <td>0.787011</td>\n",
       "      <td>0.015577</td>\n",
       "      <td>3</td>\n",
       "    </tr>\n",
       "    <tr>\n",
       "      <th>32</th>\n",
       "      <td>0.058914</td>\n",
       "      <td>0.013020</td>\n",
       "      <td>0.069154</td>\n",
       "      <td>0.011886</td>\n",
       "      <td>17</td>\n",
       "      <td>1</td>\n",
       "      <td>uniform</td>\n",
       "      <td>{'algo__n_neighbors': 17, 'algo__p': 1, 'algo_...</td>\n",
       "      <td>0.793696</td>\n",
       "      <td>0.799427</td>\n",
       "      <td>0.765043</td>\n",
       "      <td>0.786055</td>\n",
       "      <td>0.015041</td>\n",
       "      <td>5</td>\n",
       "    </tr>\n",
       "    <tr>\n",
       "      <th>...</th>\n",
       "      <td>...</td>\n",
       "      <td>...</td>\n",
       "      <td>...</td>\n",
       "      <td>...</td>\n",
       "      <td>...</td>\n",
       "      <td>...</td>\n",
       "      <td>...</td>\n",
       "      <td>...</td>\n",
       "      <td>...</td>\n",
       "      <td>...</td>\n",
       "      <td>...</td>\n",
       "      <td>...</td>\n",
       "      <td>...</td>\n",
       "      <td>...</td>\n",
       "    </tr>\n",
       "    <tr>\n",
       "      <th>8</th>\n",
       "      <td>0.101151</td>\n",
       "      <td>0.014653</td>\n",
       "      <td>0.075674</td>\n",
       "      <td>0.013977</td>\n",
       "      <td>5</td>\n",
       "      <td>1</td>\n",
       "      <td>uniform</td>\n",
       "      <td>{'algo__n_neighbors': 5, 'algo__p': 1, 'algo__...</td>\n",
       "      <td>0.765043</td>\n",
       "      <td>0.759312</td>\n",
       "      <td>0.747851</td>\n",
       "      <td>0.757402</td>\n",
       "      <td>0.007147</td>\n",
       "      <td>96</td>\n",
       "    </tr>\n",
       "    <tr>\n",
       "      <th>3</th>\n",
       "      <td>0.049339</td>\n",
       "      <td>0.005796</td>\n",
       "      <td>0.028297</td>\n",
       "      <td>0.001511</td>\n",
       "      <td>1</td>\n",
       "      <td>2</td>\n",
       "      <td>distance</td>\n",
       "      <td>{'algo__n_neighbors': 1, 'algo__p': 2, 'algo__...</td>\n",
       "      <td>0.770774</td>\n",
       "      <td>0.736390</td>\n",
       "      <td>0.722063</td>\n",
       "      <td>0.743075</td>\n",
       "      <td>0.020440</td>\n",
       "      <td>97</td>\n",
       "    </tr>\n",
       "    <tr>\n",
       "      <th>2</th>\n",
       "      <td>0.070262</td>\n",
       "      <td>0.016074</td>\n",
       "      <td>0.100059</td>\n",
       "      <td>0.028305</td>\n",
       "      <td>1</td>\n",
       "      <td>2</td>\n",
       "      <td>uniform</td>\n",
       "      <td>{'algo__n_neighbors': 1, 'algo__p': 2, 'algo__...</td>\n",
       "      <td>0.770774</td>\n",
       "      <td>0.736390</td>\n",
       "      <td>0.722063</td>\n",
       "      <td>0.743075</td>\n",
       "      <td>0.020440</td>\n",
       "      <td>97</td>\n",
       "    </tr>\n",
       "    <tr>\n",
       "      <th>1</th>\n",
       "      <td>0.090819</td>\n",
       "      <td>0.014687</td>\n",
       "      <td>0.038842</td>\n",
       "      <td>0.006658</td>\n",
       "      <td>1</td>\n",
       "      <td>1</td>\n",
       "      <td>distance</td>\n",
       "      <td>{'algo__n_neighbors': 1, 'algo__p': 1, 'algo__...</td>\n",
       "      <td>0.770774</td>\n",
       "      <td>0.736390</td>\n",
       "      <td>0.722063</td>\n",
       "      <td>0.743075</td>\n",
       "      <td>0.020440</td>\n",
       "      <td>97</td>\n",
       "    </tr>\n",
       "    <tr>\n",
       "      <th>0</th>\n",
       "      <td>0.077827</td>\n",
       "      <td>0.014434</td>\n",
       "      <td>0.080010</td>\n",
       "      <td>0.010327</td>\n",
       "      <td>1</td>\n",
       "      <td>1</td>\n",
       "      <td>uniform</td>\n",
       "      <td>{'algo__n_neighbors': 1, 'algo__p': 1, 'algo__...</td>\n",
       "      <td>0.770774</td>\n",
       "      <td>0.736390</td>\n",
       "      <td>0.722063</td>\n",
       "      <td>0.743075</td>\n",
       "      <td>0.020440</td>\n",
       "      <td>97</td>\n",
       "    </tr>\n",
       "  </tbody>\n",
       "</table>\n",
       "<p>100 rows × 14 columns</p>\n",
       "</div>"
      ],
      "text/plain": [
       "    mean_fit_time  std_fit_time  mean_score_time  std_score_time  \\\n",
       "36       0.133929      0.011279         0.127253        0.041959   \n",
       "48       0.067131      0.032728         0.067407        0.014312   \n",
       "38       0.090127      0.024454         0.094943        0.026881   \n",
       "28       0.069869      0.020787         0.083134        0.021751   \n",
       "32       0.058914      0.013020         0.069154        0.011886   \n",
       "..            ...           ...              ...             ...   \n",
       "8        0.101151      0.014653         0.075674        0.013977   \n",
       "3        0.049339      0.005796         0.028297        0.001511   \n",
       "2        0.070262      0.016074         0.100059        0.028305   \n",
       "1        0.090819      0.014687         0.038842        0.006658   \n",
       "0        0.077827      0.014434         0.080010        0.010327   \n",
       "\n",
       "   param_algo__n_neighbors param_algo__p param_algo__weights  \\\n",
       "36                      19             1             uniform   \n",
       "48                      25             1             uniform   \n",
       "38                      19             2             uniform   \n",
       "28                      15             1             uniform   \n",
       "32                      17             1             uniform   \n",
       "..                     ...           ...                 ...   \n",
       "8                        5             1             uniform   \n",
       "3                        1             2            distance   \n",
       "2                        1             2             uniform   \n",
       "1                        1             1            distance   \n",
       "0                        1             1             uniform   \n",
       "\n",
       "                                               params  split0_test_score  \\\n",
       "36  {'algo__n_neighbors': 19, 'algo__p': 1, 'algo_...           0.799427   \n",
       "48  {'algo__n_neighbors': 25, 'algo__p': 1, 'algo_...           0.787966   \n",
       "38  {'algo__n_neighbors': 19, 'algo__p': 2, 'algo_...           0.785100   \n",
       "28  {'algo__n_neighbors': 15, 'algo__p': 1, 'algo_...           0.796562   \n",
       "32  {'algo__n_neighbors': 17, 'algo__p': 1, 'algo_...           0.793696   \n",
       "..                                                ...                ...   \n",
       "8   {'algo__n_neighbors': 5, 'algo__p': 1, 'algo__...           0.765043   \n",
       "3   {'algo__n_neighbors': 1, 'algo__p': 2, 'algo__...           0.770774   \n",
       "2   {'algo__n_neighbors': 1, 'algo__p': 2, 'algo__...           0.770774   \n",
       "1   {'algo__n_neighbors': 1, 'algo__p': 1, 'algo__...           0.770774   \n",
       "0   {'algo__n_neighbors': 1, 'algo__p': 1, 'algo__...           0.770774   \n",
       "\n",
       "    split1_test_score  split2_test_score  mean_test_score  std_test_score  \\\n",
       "36           0.813754           0.762178         0.791786        0.021738   \n",
       "48           0.810888           0.765043         0.787966        0.018716   \n",
       "38           0.813754           0.762178         0.787011        0.021099   \n",
       "28           0.799427           0.765043         0.787011        0.015577   \n",
       "32           0.799427           0.765043         0.786055        0.015041   \n",
       "..                ...                ...              ...             ...   \n",
       "8            0.759312           0.747851         0.757402        0.007147   \n",
       "3            0.736390           0.722063         0.743075        0.020440   \n",
       "2            0.736390           0.722063         0.743075        0.020440   \n",
       "1            0.736390           0.722063         0.743075        0.020440   \n",
       "0            0.736390           0.722063         0.743075        0.020440   \n",
       "\n",
       "    rank_test_score  \n",
       "36                1  \n",
       "48                2  \n",
       "38                3  \n",
       "28                3  \n",
       "32                5  \n",
       "..              ...  \n",
       "8                96  \n",
       "3                97  \n",
       "2                97  \n",
       "1                97  \n",
       "0                97  \n",
       "\n",
       "[100 rows x 14 columns]"
      ]
     },
     "execution_count": 24,
     "metadata": {},
     "output_type": "execute_result"
    }
   ],
   "source": [
    "pd.DataFrame(model.cv_results_).sort_values('rank_test_score')"
   ]
  },
  {
   "cell_type": "code",
   "execution_count": 26,
   "id": "1d5c3dd7",
   "metadata": {},
   "outputs": [
    {
     "data": {
      "text/plain": [
       "{'algo__n_neighbors': 19, 'algo__p': 1, 'algo__weights': 'uniform'}"
      ]
     },
     "execution_count": 26,
     "metadata": {},
     "output_type": "execute_result"
    }
   ],
   "source": [
    "model.best_params_"
   ]
  },
  {
   "cell_type": "code",
   "execution_count": 27,
   "id": "5dfa7933",
   "metadata": {},
   "outputs": [
    {
     "data": {
      "text/plain": [
       "(0.8013371537726839, 0.8091603053435115)"
      ]
     },
     "execution_count": 27,
     "metadata": {},
     "output_type": "execute_result"
    }
   ],
   "source": [
    " model.score(X_train, y_train), model.score(X_test, y_test)"
   ]
  },
  {
   "cell_type": "code",
   "execution_count": null,
   "id": "4c98ad2d",
   "metadata": {},
   "outputs": [],
   "source": []
  }
 ],
 "metadata": {
  "kernelspec": {
   "display_name": "Python 3 (ipykernel)",
   "language": "python",
   "name": "python3"
  },
  "language_info": {
   "codemirror_mode": {
    "name": "ipython",
    "version": 3
   },
   "file_extension": ".py",
   "mimetype": "text/x-python",
   "name": "python",
   "nbconvert_exporter": "python",
   "pygments_lexer": "ipython3",
   "version": "3.9.7"
  }
 },
 "nbformat": 4,
 "nbformat_minor": 5
}
