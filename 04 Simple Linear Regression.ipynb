{
 "cells": [
  {
   "cell_type": "code",
   "execution_count": 3,
   "id": "aa5e1861",
   "metadata": {},
   "outputs": [
    {
     "data": {
      "text/html": [
       "<div>\n",
       "<style scoped>\n",
       "    .dataframe tbody tr th:only-of-type {\n",
       "        vertical-align: middle;\n",
       "    }\n",
       "\n",
       "    .dataframe tbody tr th {\n",
       "        vertical-align: top;\n",
       "    }\n",
       "\n",
       "    .dataframe thead th {\n",
       "        text-align: right;\n",
       "    }\n",
       "</style>\n",
       "<table border=\"1\" class=\"dataframe\">\n",
       "  <thead>\n",
       "    <tr style=\"text-align: right;\">\n",
       "      <th></th>\n",
       "      <th>diameter</th>\n",
       "      <th>harga</th>\n",
       "    </tr>\n",
       "  </thead>\n",
       "  <tbody>\n",
       "    <tr>\n",
       "      <th>0</th>\n",
       "      <td>6</td>\n",
       "      <td>7.0</td>\n",
       "    </tr>\n",
       "    <tr>\n",
       "      <th>1</th>\n",
       "      <td>8</td>\n",
       "      <td>9.0</td>\n",
       "    </tr>\n",
       "    <tr>\n",
       "      <th>2</th>\n",
       "      <td>10</td>\n",
       "      <td>13.0</td>\n",
       "    </tr>\n",
       "    <tr>\n",
       "      <th>3</th>\n",
       "      <td>14</td>\n",
       "      <td>17.5</td>\n",
       "    </tr>\n",
       "    <tr>\n",
       "      <th>4</th>\n",
       "      <td>18</td>\n",
       "      <td>18.0</td>\n",
       "    </tr>\n",
       "  </tbody>\n",
       "</table>\n",
       "</div>"
      ],
      "text/plain": [
       "   diameter  harga\n",
       "0         6    7.0\n",
       "1         8    9.0\n",
       "2        10   13.0\n",
       "3        14   17.5\n",
       "4        18   18.0"
      ]
     },
     "execution_count": 3,
     "metadata": {},
     "output_type": "execute_result"
    }
   ],
   "source": [
    "import pandas as pd\n",
    "\n",
    "pizza = {'diameter': [6,8,10,14,18],\n",
    "        'harga': [7,9,13,17.5,18]}\n",
    "\n",
    "df = pd.DataFrame(pizza)\n",
    "df"
   ]
  },
  {
   "cell_type": "code",
   "execution_count": 24,
   "id": "11351f14",
   "metadata": {},
   "outputs": [
    {
     "data": {
      "image/png": "[encoded data removed]",
      "text/plain": [
       "<Figure size 432x288 with 1 Axes>"
      ]
     },
     "metadata": {
      "needs_background": "light"
     },
     "output_type": "display_data"
    }
   ],
   "source": [
    "import matplotlib.pyplot as plt\n",
    "\n",
    "df.plot(kind='scatter', x='diameter', y='harga')\n",
    "plt.title('Perbandingan antara diameter dengan harga')\n",
    "plt.xlabel('diameter (inch)')\n",
    "plt.ylabel('harga (dollar)')\n",
    "plt.xlim(0, 25)\n",
    "plt.ylim(0, 25)\n",
    "plt.grid()\n",
    "plt.show()\n"
   ]
  },
  {
   "cell_type": "code",
   "execution_count": 32,
   "id": "5a9adb68",
   "metadata": {},
   "outputs": [
    {
     "name": "stdout",
     "output_type": "stream",
     "text": [
      "X: [ 6  8 10 14 18]\n",
      "y: [ 7.   9.  13.  17.5 18. ]\n"
     ]
    }
   ],
   "source": [
    "import numpy as np\n",
    "\n",
    "X = np.array(df['diameter']) # features\n",
    "y = np.array(df['harga']) # target\n",
    "\n",
    "print(f'X: {X}')\n",
    "print(f'y: {y}')"
   ]
  },
  {
   "cell_type": "code",
   "execution_count": 66,
   "id": "1212628b",
   "metadata": {},
   "outputs": [
    {
     "data": {
      "text/plain": [
       "(5, 1)"
      ]
     },
     "execution_count": 66,
     "metadata": {},
     "output_type": "execute_result"
    }
   ],
   "source": [
    "# kita reshape agar dapat kita manipulasi struktur data nya menjadi vertikal yang sebelumnya adalah horizontal (2 dimensi)\n",
    "# model machine learning membutuhkan data yang 2 dimensi\n",
    "\n",
    "X = X.reshape(-1, 1)\n",
    "X.shape"
   ]
  },
  {
   "cell_type": "code",
   "execution_count": 67,
   "id": "955a8dd7",
   "metadata": {},
   "outputs": [
    {
     "data": {
      "text/plain": [
       "array([[ 6],\n",
       "       [ 8],\n",
       "       [10],\n",
       "       [14],\n",
       "       [18]], dtype=int64)"
      ]
     },
     "execution_count": 67,
     "metadata": {},
     "output_type": "execute_result"
    }
   ],
   "source": [
    "X"
   ]
  },
  {
   "cell_type": "code",
   "execution_count": 71,
   "id": "90200d7f",
   "metadata": {},
   "outputs": [
    {
     "data": {
      "text/plain": [
       "LinearRegression()"
      ]
     },
     "execution_count": 71,
     "metadata": {},
     "output_type": "execute_result"
    }
   ],
   "source": [
    "# training model\n",
    "from sklearn.linear_model import LinearRegression\n",
    "\n",
    "model = LinearRegression()\n",
    "model.fit(X, y)"
   ]
  },
  {
   "cell_type": "code",
   "execution_count": 76,
   "id": "68448cc0",
   "metadata": {},
   "outputs": [],
   "source": [
    "X_vis = np.array([0,25]).reshape(-1, 1)\n",
    "y_vis = model.predict(X_vis)"
   ]
  },
  {
   "cell_type": "code",
   "execution_count": 77,
   "id": "b4c179b4",
   "metadata": {},
   "outputs": [
    {
     "data": {
      "image/png": "[encoded data removed]",
      "text/plain": [
       "<Figure size 432x288 with 1 Axes>"
      ]
     },
     "metadata": {
      "needs_background": "light"
     },
     "output_type": "display_data"
    }
   ],
   "source": [
    "plt.scatter(X,y)\n",
    "plt.plot(X_vis, y_vis, '-r')\n",
    "\n",
    "plt.title('Perbandingan antara diameter dengan harga')\n",
    "plt.xlabel('diameter (inch)')\n",
    "plt.ylabel('harga (dollar)')\n",
    "plt.xlim(0, 25)\n",
    "plt.ylim(0, 25)\n",
    "plt.grid()\n",
    "plt.show()\n",
    "\n",
    "#formula dari linear regression. y = alpha + beta x\n",
    "# y = response variabel (variabel target)\n",
    "# x = explanatory variabel (features)\n",
    "# alpha = intercept (nilai pada sumbu y ketika sumbu x nya bernilai 0)\n",
    "# beta = slope (nilai slope berpengaruh kepada tingkat kemiringan garis linear. nilai 0 slope membuat kemiringan horizontal)\n"
   ]
  },
  {
   "cell_type": "code",
   "execution_count": 80,
   "id": "770559ca",
   "metadata": {},
   "outputs": [
    {
     "name": "stdout",
     "output_type": "stream",
     "text": [
      "intercept: 1.965517241379315\n",
      "slope: [0.9762931]\n"
     ]
    }
   ],
   "source": [
    "# untuk melihat nilai intercept(alpha) dan slope(beta)\n",
    "print(f'intercept: {model.intercept_}')\n",
    "print(f'slope: {model.coef_}')"
   ]
  },
  {
   "cell_type": "code",
   "execution_count": 83,
   "id": "43e711bd",
   "metadata": {},
   "outputs": [
    {
     "name": "stdout",
     "output_type": "stream",
     "text": [
      "X:\n",
      "[[ 6]\n",
      " [ 8]\n",
      " [10]\n",
      " [14]\n",
      " [18]]\n",
      "\n",
      "X flatten: [ 6  8 10 14 18]\n",
      "\n",
      "y: [ 7.   9.  13.  17.5 18. ]\n"
     ]
    }
   ],
   "source": [
    "# mencari nilai slope/beta = covariance(x,y) / variance(x)\n",
    "print(f'X:\\n{X}\\n')\n",
    "# merubah dimensi dari yang 2 dimensi menjadi 1 dimensi kembali menggunakan method flatten\n",
    "print(f'X flatten: {X.flatten()}\\n')\n",
    "print(f'y: {y}')"
   ]
  },
  {
   "cell_type": "code",
   "execution_count": 84,
   "id": "a080ffd2",
   "metadata": {},
   "outputs": [
    {
     "name": "stdout",
     "output_type": "stream",
     "text": [
      "variance: 23.2\n"
     ]
    }
   ],
   "source": [
    "# mencari nilai variance\n",
    "# ddof adalah degrees of fredom yang didapat dari nilai n - 1\n",
    "variance_x = np.var(X.flatten(), ddof=1)\n",
    "\n",
    "print(f'variance: {variance_x}')"
   ]
  },
  {
   "cell_type": "code",
   "execution_count": 87,
   "id": "2d465f22",
   "metadata": {},
   "outputs": [
    {
     "data": {
      "text/plain": [
       "array([[23.2 , 22.65],\n",
       "       [22.65, 24.3 ]])"
      ]
     },
     "execution_count": 87,
     "metadata": {},
     "output_type": "execute_result"
    }
   ],
   "source": [
    "# mencari nilai covariance\n",
    "np.cov(X.flatten(), y)"
   ]
  },
  {
   "cell_type": "code",
   "execution_count": 88,
   "id": "7a61a672",
   "metadata": {},
   "outputs": [
    {
     "name": "stdout",
     "output_type": "stream",
     "text": [
      "covariance : 22.65\n"
     ]
    }
   ],
   "source": [
    "# mengambil nilai yang berada di index 0 dan kolom 1\n",
    "covariance_xy = np.cov(X.flatten(), y)[0][1]\n",
    "print(f'covariance : {covariance_xy}')"
   ]
  },
  {
   "cell_type": "code",
   "execution_count": 91,
   "id": "1e3a500b",
   "metadata": {},
   "outputs": [
    {
     "name": "stdout",
     "output_type": "stream",
     "text": [
      "slope : 0.9762931034482758\n"
     ]
    }
   ],
   "source": [
    "slope = covariance_xy / variance_x\n",
    "print(f'slope : {slope}')\n",
    "# hasilnya sama persis dengan kita menggunakan method coef (method untuk menampilkan slope)"
   ]
  },
  {
   "cell_type": "code",
   "execution_count": 94,
   "id": "d3ef0869",
   "metadata": {},
   "outputs": [
    {
     "name": "stdout",
     "output_type": "stream",
     "text": [
      "intercept: 1.9655172413793114\n"
     ]
    }
   ],
   "source": [
    "# mencari nilai dari intercept\n",
    "# formulanya alpha = mean dari variabel target (y) - slope/beta * mean dari features (x)\n",
    "intercept = np.mean(y) - slope * np.mean(X)\n",
    "print(f'intercept: {intercept}')"
   ]
  },
  {
   "cell_type": "code",
   "execution_count": 95,
   "id": "e8ec0da8",
   "metadata": {},
   "outputs": [
    {
     "data": {
      "text/plain": [
       "array([[12],\n",
       "       [20],\n",
       "       [23]])"
      ]
     },
     "execution_count": 95,
     "metadata": {},
     "output_type": "execute_result"
    }
   ],
   "source": [
    "# prediksi harga pizza\n",
    "diameter_pizza = np.array([12,20,23]).reshape(-1,1)\n",
    "diameter_pizza"
   ]
  },
  {
   "cell_type": "code",
   "execution_count": 96,
   "id": "f79d639f",
   "metadata": {},
   "outputs": [
    {
     "data": {
      "text/plain": [
       "array([13.68103448, 21.49137931, 24.42025862])"
      ]
     },
     "execution_count": 96,
     "metadata": {},
     "output_type": "execute_result"
    }
   ],
   "source": [
    "prediksi_harga = model.predict(diameter_pizza)\n",
    "prediksi_harga"
   ]
  },
  {
   "cell_type": "code",
   "execution_count": 100,
   "id": "d859a4e0",
   "metadata": {},
   "outputs": [
    {
     "name": "stdout",
     "output_type": "stream",
     "text": [
      "Diamter : [12] - prediksi harga : 13.681034482758621\n",
      "Diamter : [20] - prediksi harga : 21.491379310344826\n",
      "Diamter : [23] - prediksi harga : 24.42025862068965\n"
     ]
    }
   ],
   "source": [
    "for dmt, hrg in zip(diameter_pizza, prediksi_harga):\n",
    "    print(f'Diamter : {dmt} - prediksi harga : {hrg}')"
   ]
  },
  {
   "cell_type": "code",
   "execution_count": 108,
   "id": "d1e4f568",
   "metadata": {},
   "outputs": [],
   "source": [
    "# Evaluasi simple linear regression\n",
    "X_train = np.array([6,8,10,14,18]).reshape(-1, 1)\n",
    "y_train = np.array([7,9,13,17.5,18])\n",
    "\n",
    "X_test = np.array([8,9,11,16,12]).reshape(-1,1)\n",
    "y_test = np.array([11, 8.5, 15,18,11])"
   ]
  },
  {
   "cell_type": "code",
   "execution_count": 109,
   "id": "21cd9ec0",
   "metadata": {},
   "outputs": [
    {
     "data": {
      "text/plain": [
       "LinearRegression()"
      ]
     },
     "execution_count": 109,
     "metadata": {},
     "output_type": "execute_result"
    }
   ],
   "source": [
    "# training simple linear regression\n",
    "model = LinearRegression()\n",
    "model.fit(X_train, y_train)"
   ]
  },
  {
   "cell_type": "code",
   "execution_count": 110,
   "id": "1306331f",
   "metadata": {},
   "outputs": [
    {
     "name": "stdout",
     "output_type": "stream",
     "text": [
      "R-Squared : 0.6620052929422553\n"
     ]
    }
   ],
   "source": [
    "# evaluasi linear regression dengan koefisien of determinan atau R-squared(R-kuadrat)\n",
    "from sklearn.metrics import r2_score\n",
    "\n",
    "y_pred = model.predict(X_test)\n",
    "r_squared = r2_score(y_test, y_pred)\n",
    "print(f'R-Squared : {r_squared}')"
   ]
  },
  {
   "cell_type": "code",
   "execution_count": 111,
   "id": "5b377ca9",
   "metadata": {},
   "outputs": [
    {
     "name": "stdout",
     "output_type": "stream",
     "text": [
      "Sum square residual : 19.1980993608799\n"
     ]
    }
   ],
   "source": [
    "# mencari nilai R-Squared secara manual\n",
    "ss_res = sum([(y_i - model.predict(x_i.reshape(-1, 1))[0])**2\n",
    "             for x_i, y_i in zip(X_test, y_test)])\n",
    "\n",
    "print(f'Sum square residual : {ss_res}')"
   ]
  },
  {
   "cell_type": "code",
   "execution_count": 112,
   "id": "6cefe5af",
   "metadata": {},
   "outputs": [
    {
     "name": "stdout",
     "output_type": "stream",
     "text": [
      "Sum square total : 56.8\n"
     ]
    }
   ],
   "source": [
    "mean_y = np.mean(y_test)\n",
    "ss_tot = sum([(y_i - mean_y)**2 for y_i in y_test])\n",
    "\n",
    "print(f'Sum square total : {ss_tot}')"
   ]
  },
  {
   "cell_type": "code",
   "execution_count": 113,
   "id": "b021ea9b",
   "metadata": {},
   "outputs": [
    {
     "name": "stdout",
     "output_type": "stream",
     "text": [
      "R-Squared : 0.6620052929422553\n"
     ]
    }
   ],
   "source": [
    "# R-squared = 1 - (ss_res / ss_tot)\n",
    "r_squared = 1 - (ss_res / ss_tot)\n",
    "print(f'R-Squared : {r_squared}')"
   ]
  },
  {
   "cell_type": "code",
   "execution_count": null,
   "id": "d0ce62b5",
   "metadata": {},
   "outputs": [],
   "source": []
  }
 ],
 "metadata": {
  "kernelspec": {
   "display_name": "Python 3 (ipykernel)",
   "language": "python",
   "name": "python3"
  },
  "language_info": {
   "codemirror_mode": {
    "name": "ipython",
    "version": 3
   },
   "file_extension": ".py",
   "mimetype": "text/x-python",
   "name": "python",
   "nbconvert_exporter": "python",
   "pygments_lexer": "ipython3",
   "version": "3.9.7"
  }
 },
 "nbformat": 4,
 "nbformat_minor": 5
}
